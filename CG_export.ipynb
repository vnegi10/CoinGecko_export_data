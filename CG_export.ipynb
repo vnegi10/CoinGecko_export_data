{
 "cells": [
  {
   "cell_type": "code",
   "execution_count": 30,
   "id": "1f3fa76c-c1c1-4668-88dc-3f0598d72765",
   "metadata": {},
   "outputs": [],
   "source": [
    "import polars as pl\n",
    "pl.Config.set_fmt_str_lengths(200)\n",
    "\n",
    "import requests as rq\n",
    "import json"
   ]
  },
  {
   "cell_type": "markdown",
   "id": "5ae4835a-aa68-4127-88db-b49b83f044bb",
   "metadata": {},
   "source": [
    "### Keys"
   ]
  },
  {
   "cell_type": "code",
   "execution_count": 2,
   "id": "ee6a9411-f056-47ad-b7b9-f92c8c8d5344",
   "metadata": {},
   "outputs": [],
   "source": [
    "# Get demo API key\n",
    "def get_demo_key():\n",
    "    f = open(\"/home/vikas/Documents/CG_demo_key.json\")\n",
    "    key_dict = json.load(f)\n",
    "    return key_dict[\"key\"]"
   ]
  },
  {
   "cell_type": "code",
   "execution_count": 16,
   "id": "21ae0784-5347-490a-8fff-ce7db9af5d60",
   "metadata": {},
   "outputs": [],
   "source": [
    "# Get pro API key\n",
    "def get_pro_key():\n",
    "    f = open(\"/home/vikas/Documents/CG_pro_key.json\")\n",
    "    key_dict = json.load(f)\n",
    "    return key_dict[\"key\"]"
   ]
  },
  {
   "cell_type": "markdown",
   "id": "36330ac5-586a-407f-bbb6-83c03adf01b8",
   "metadata": {},
   "source": [
    "### API status"
   ]
  },
  {
   "cell_type": "code",
   "execution_count": 3,
   "id": "5be13b54-cd1c-4a93-9a04-a1c1af51731d",
   "metadata": {},
   "outputs": [],
   "source": [
    "PUB_URL = \"https://api.coingecko.com/api/v3\"\n",
    "PRO_URL = \"https://pro-api.coingecko.com/api/v3\""
   ]
  },
  {
   "cell_type": "code",
   "execution_count": 4,
   "id": "3c9faee8-dc5b-4036-b4af-52932a17270d",
   "metadata": {},
   "outputs": [],
   "source": [
    "def get_response(endpoint, headers, params, URL):\n",
    "    url = \"\".join((URL, endpoint))\n",
    "    response = rq.get(url, headers = headers, params = params)\n",
    "    if response.status_code == 200:\n",
    "        data = response.json()\n",
    "        return data\n",
    "    else:\n",
    "        print(f\"Failed to fetch data, check status code {response.status_code}\")"
   ]
  },
  {
   "cell_type": "code",
   "execution_count": 5,
   "id": "33c86e2f-6a6e-4522-9227-69352ca511d9",
   "metadata": {},
   "outputs": [],
   "source": [
    "use_demo = {\n",
    "           \"accept\": \"application/json\",\n",
    "           \"x-cg-demo-api-key\" : get_demo_key() \n",
    "}"
   ]
  },
  {
   "cell_type": "code",
   "execution_count": 6,
   "id": "5c55ee95-b719-44b8-b0e3-e4f88449b64a",
   "metadata": {},
   "outputs": [
    {
     "data": {
      "text/plain": [
       "{'gecko_says': '(V3) To the Moon!'}"
      ]
     },
     "execution_count": 6,
     "metadata": {},
     "output_type": "execute_result"
    }
   ],
   "source": [
    "get_response(\"/ping\", use_demo, \"\", PUB_URL)"
   ]
  },
  {
   "cell_type": "markdown",
   "id": "b5c930f7-1875-40d3-9831-5d16a764ca47",
   "metadata": {},
   "source": [
    "#### List of coins"
   ]
  },
  {
   "cell_type": "code",
   "execution_count": 7,
   "id": "486df9f3-ddba-49ed-84f1-9cacdcf4f7d9",
   "metadata": {},
   "outputs": [],
   "source": [
    "def get_list_of_coins():\n",
    "\n",
    "    response = get_response(\"/coins/list\", use_demo, \"\", PUB_URL)\n",
    "\n",
    "    return pl.DataFrame(response) "
   ]
  },
  {
   "cell_type": "code",
   "execution_count": 8,
   "id": "bc4826d7-4d83-4f62-a460-a384b2437f53",
   "metadata": {},
   "outputs": [],
   "source": [
    "df_coins = get_list_of_coins()"
   ]
  },
  {
   "cell_type": "code",
   "execution_count": 9,
   "id": "a24d9812-8879-40ff-89cc-0b3978656ec4",
   "metadata": {},
   "outputs": [
    {
     "data": {
      "text/html": [
       "<div><style>\n",
       ".dataframe > thead > tr,\n",
       ".dataframe > tbody > tr {\n",
       "  text-align: right;\n",
       "  white-space: pre-wrap;\n",
       "}\n",
       "</style>\n",
       "<small>shape: (5, 3)</small><table border=\"1\" class=\"dataframe\"><thead><tr><th>id</th><th>symbol</th><th>name</th></tr><tr><td>str</td><td>str</td><td>str</td></tr></thead><tbody><tr><td>&quot;batcat&quot;</td><td>&quot;btc&quot;</td><td>&quot;batcat&quot;</td></tr><tr><td>&quot;bitcoin&quot;</td><td>&quot;btc&quot;</td><td>&quot;Bitcoin&quot;</td></tr><tr><td>&quot;blackrocktradingcurrency&quot;</td><td>&quot;btc&quot;</td><td>&quot;BlackrockTradingCurrency&quot;</td></tr><tr><td>&quot;bobby-the-cat&quot;</td><td>&quot;btc&quot;</td><td>&quot;Bobby The Cat&quot;</td></tr><tr><td>&quot;osmosis-allbtc&quot;</td><td>&quot;btc&quot;</td><td>&quot;Osmosis allBTC&quot;</td></tr></tbody></table></div>"
      ],
      "text/plain": [
       "shape: (5, 3)\n",
       "┌──────────────────────────┬────────┬──────────────────────────┐\n",
       "│ id                       ┆ symbol ┆ name                     │\n",
       "│ ---                      ┆ ---    ┆ ---                      │\n",
       "│ str                      ┆ str    ┆ str                      │\n",
       "╞══════════════════════════╪════════╪══════════════════════════╡\n",
       "│ batcat                   ┆ btc    ┆ batcat                   │\n",
       "│ bitcoin                  ┆ btc    ┆ Bitcoin                  │\n",
       "│ blackrocktradingcurrency ┆ btc    ┆ BlackrockTradingCurrency │\n",
       "│ bobby-the-cat            ┆ btc    ┆ Bobby The Cat            │\n",
       "│ osmosis-allbtc           ┆ btc    ┆ Osmosis allBTC           │\n",
       "└──────────────────────────┴────────┴──────────────────────────┘"
      ]
     },
     "execution_count": 9,
     "metadata": {},
     "output_type": "execute_result"
    }
   ],
   "source": [
    "df_coins.filter(pl.col(\"symbol\") == \"btc\")"
   ]
  },
  {
   "cell_type": "markdown",
   "id": "530ae8af-ae3d-481d-830f-8502bfa560ed",
   "metadata": {},
   "source": [
    "### OHLC"
   ]
  },
  {
   "cell_type": "code",
   "execution_count": 10,
   "id": "63d70752-1bec-429b-816f-37f6e460f669",
   "metadata": {},
   "outputs": [],
   "source": [
    "def get_ohlc_data(coin_id, target_curr, days, precision):\n",
    "\n",
    "    ohlc_params = {\n",
    "            \"vs_currency\": target_curr,\n",
    "            \"days\": days,\n",
    "            \"precision\": precision\n",
    "    }\n",
    "\n",
    "    ohlc_list_response = get_response(f\"/coins/{coin_id}/ohlc\",\n",
    "                                      use_demo,\n",
    "                                      ohlc_params,\n",
    "                                      PUB_URL)\n",
    "\n",
    "    df_ohlc = pl.DataFrame(ohlc_list_response, \n",
    "                           schema = [\"timestamp\", \"open\", \"high\", \"low\", \"close\"],\n",
    "                           orient = \"row\")\n",
    "\n",
    "    df_ohlc = df_ohlc.with_columns(\n",
    "                  pl.from_epoch(pl.col(\"timestamp\"),\n",
    "                                time_unit = \"ms\").alias(\"timestamp\")\n",
    "         )\n",
    "\n",
    "    return df_ohlc"
   ]
  },
  {
   "cell_type": "code",
   "execution_count": 11,
   "id": "52a66d6e-94d1-4e8a-b0ad-8711904e11e9",
   "metadata": {},
   "outputs": [
    {
     "data": {
      "text/html": [
       "<div><style>\n",
       ".dataframe > thead > tr,\n",
       ".dataframe > tbody > tr {\n",
       "  text-align: right;\n",
       "  white-space: pre-wrap;\n",
       "}\n",
       "</style>\n",
       "<small>shape: (84, 5)</small><table border=\"1\" class=\"dataframe\"><thead><tr><th>timestamp</th><th>open</th><th>high</th><th>low</th><th>close</th></tr><tr><td>datetime[ms]</td><td>f64</td><td>f64</td><td>f64</td><td>f64</td></tr></thead><tbody><tr><td>2025-07-01 20:00:00</td><td>90003.37</td><td>90303.59</td><td>89532.34</td><td>89532.34</td></tr><tr><td>2025-07-02 00:00:00</td><td>89374.75</td><td>89819.18</td><td>89370.19</td><td>89468.81</td></tr><tr><td>2025-07-02 04:00:00</td><td>89512.11</td><td>90003.85</td><td>89268.68</td><td>90002.3</td></tr><tr><td>2025-07-02 08:00:00</td><td>89990.28</td><td>91003.04</td><td>89990.13</td><td>91003.04</td></tr><tr><td>2025-07-02 12:00:00</td><td>91007.33</td><td>91638.41</td><td>91007.33</td><td>91374.54</td></tr><tr><td>&hellip;</td><td>&hellip;</td><td>&hellip;</td><td>&hellip;</td><td>&hellip;</td></tr><tr><td>2025-07-15 00:00:00</td><td>102741.96</td><td>103139.28</td><td>102616.75</td><td>102728.14</td></tr><tr><td>2025-07-15 04:00:00</td><td>102738.77</td><td>102738.77</td><td>100364.29</td><td>100465.0</td></tr><tr><td>2025-07-15 08:00:00</td><td>100320.25</td><td>100721.95</td><td>99822.22</td><td>99860.19</td></tr><tr><td>2025-07-15 12:00:00</td><td>99895.48</td><td>100232.34</td><td>99790.86</td><td>100102.79</td></tr><tr><td>2025-07-15 16:00:00</td><td>100258.11</td><td>101682.81</td><td>99984.4</td><td>100322.65</td></tr></tbody></table></div>"
      ],
      "text/plain": [
       "shape: (84, 5)\n",
       "┌─────────────────────┬───────────┬───────────┬───────────┬───────────┐\n",
       "│ timestamp           ┆ open      ┆ high      ┆ low       ┆ close     │\n",
       "│ ---                 ┆ ---       ┆ ---       ┆ ---       ┆ ---       │\n",
       "│ datetime[ms]        ┆ f64       ┆ f64       ┆ f64       ┆ f64       │\n",
       "╞═════════════════════╪═══════════╪═══════════╪═══════════╪═══════════╡\n",
       "│ 2025-07-01 20:00:00 ┆ 90003.37  ┆ 90303.59  ┆ 89532.34  ┆ 89532.34  │\n",
       "│ 2025-07-02 00:00:00 ┆ 89374.75  ┆ 89819.18  ┆ 89370.19  ┆ 89468.81  │\n",
       "│ 2025-07-02 04:00:00 ┆ 89512.11  ┆ 90003.85  ┆ 89268.68  ┆ 90002.3   │\n",
       "│ 2025-07-02 08:00:00 ┆ 89990.28  ┆ 91003.04  ┆ 89990.13  ┆ 91003.04  │\n",
       "│ 2025-07-02 12:00:00 ┆ 91007.33  ┆ 91638.41  ┆ 91007.33  ┆ 91374.54  │\n",
       "│ …                   ┆ …         ┆ …         ┆ …         ┆ …         │\n",
       "│ 2025-07-15 00:00:00 ┆ 102741.96 ┆ 103139.28 ┆ 102616.75 ┆ 102728.14 │\n",
       "│ 2025-07-15 04:00:00 ┆ 102738.77 ┆ 102738.77 ┆ 100364.29 ┆ 100465.0  │\n",
       "│ 2025-07-15 08:00:00 ┆ 100320.25 ┆ 100721.95 ┆ 99822.22  ┆ 99860.19  │\n",
       "│ 2025-07-15 12:00:00 ┆ 99895.48  ┆ 100232.34 ┆ 99790.86  ┆ 100102.79 │\n",
       "│ 2025-07-15 16:00:00 ┆ 100258.11 ┆ 101682.81 ┆ 99984.4   ┆ 100322.65 │\n",
       "└─────────────────────┴───────────┴───────────┴───────────┴───────────┘"
      ]
     },
     "execution_count": 11,
     "metadata": {},
     "output_type": "execute_result"
    }
   ],
   "source": [
    "df_ohlc_btc = get_ohlc_data(\"bitcoin\", \"eur\", \"14\", \"2\")\n",
    "\n",
    "df_ohlc_btc"
   ]
  },
  {
   "cell_type": "markdown",
   "id": "0cc8276d-8ccc-4ef8-9c10-674347d05718",
   "metadata": {},
   "source": [
    "#### Verify column assignment"
   ]
  },
  {
   "cell_type": "code",
   "execution_count": 12,
   "id": "8d5a8e9a-06e7-4af6-aca9-b2a0f1422137",
   "metadata": {},
   "outputs": [],
   "source": [
    "def validate_columns(df):    \n",
    "\n",
    "    # Create expressions for max and min across the OHLC columns\n",
    "    validation = df.with_columns([\n",
    "        pl.max_horizontal([\"open\", \"high\", \"low\", \"close\"]).alias(\"row_max\"),\n",
    "        pl.min_horizontal([\"open\", \"high\", \"low\", \"close\"]).alias(\"row_min\")\n",
    "    ])\n",
    "\n",
    "    not_valid = (\n",
    "        (validation[\"high\"] != validation[\"row_max\"]) &\n",
    "        (validation[\"low\"] != validation[\"row_min\"])\n",
    "    ).all()\n",
    "    \n",
    "    print(\"Invalid OHLC rows:\", not_valid)\n",
    "\n",
    "    return None"
   ]
  },
  {
   "cell_type": "code",
   "execution_count": 13,
   "id": "01b977f0-1a0b-41c3-b447-26d9d672f504",
   "metadata": {},
   "outputs": [
    {
     "name": "stdout",
     "output_type": "stream",
     "text": [
      "Invalid OHLC rows: False\n"
     ]
    }
   ],
   "source": [
    "validate_columns(df_ohlc_btc)"
   ]
  },
  {
   "cell_type": "markdown",
   "id": "36327649-60c2-45ed-bde8-d0d895c4e8a6",
   "metadata": {},
   "source": [
    "#### Export to CSV / XLSX"
   ]
  },
  {
   "cell_type": "code",
   "execution_count": 14,
   "id": "86f6f734-5f89-426a-9b69-e2143705fd0c",
   "metadata": {},
   "outputs": [
    {
     "data": {
      "text/plain": [
       "<xlsxwriter.workbook.Workbook at 0x7f429c457820>"
      ]
     },
     "execution_count": 14,
     "metadata": {},
     "output_type": "execute_result"
    }
   ],
   "source": [
    "df_export = get_ohlc_data(\"bitcoin\", \"eur\", \"14\", \"2\")\n",
    "\n",
    "df_export.write_csv(\"/home/vikas/Desktop/GitHub/CoinGecko_export_data/BTC_EUR_export.csv\")\n",
    "df_export.write_excel(\"/home/vikas/Desktop/GitHub/CoinGecko_export_data/BTC_EUR_export.xlsx\",\n",
    "                      autofit = True)"
   ]
  },
  {
   "cell_type": "markdown",
   "id": "ef29183c-d5b9-47ee-8db6-b82a3d2950bb",
   "metadata": {},
   "source": [
    "### OHLCV"
   ]
  },
  {
   "cell_type": "markdown",
   "id": "0324a8b3-111c-45ff-82d8-4ffe7c9e59ea",
   "metadata": {},
   "source": [
    "#### Get top pools for a specific network"
   ]
  },
  {
   "cell_type": "code",
   "execution_count": 17,
   "id": "c21c86c4-81b2-4e16-835b-1a768579912b",
   "metadata": {},
   "outputs": [],
   "source": [
    "use_pro = {\n",
    "         \"accept\": \"application/json\",\n",
    "         \"x-cg-pro-api-key\" : get_pro_key()\n",
    "}"
   ]
  },
  {
   "cell_type": "code",
   "execution_count": 24,
   "id": "22955aa5-39aa-4547-b563-77325f679e12",
   "metadata": {},
   "outputs": [],
   "source": [
    "def get_url(url_type,\n",
    "            network,\n",
    "            dex = \"\",\n",
    "            pool_address = \"\",\n",
    "            token_address = \"\"):   \n",
    "\n",
    "    url_dict = {\n",
    "        \"trending_pools\": f\"/onchain/networks/{network}/trending_pools\",\n",
    "        \"top_pools\": f\"/onchain/networks/{network}/pools\",\n",
    "        \"top_pools_dex\": f\"/onchain/networks/{network}/dexes/{dex}/pools\",\n",
    "        \"specific_pool_dex\": f\"/onchain/networks/{network}/pools/{pool_address}\",\n",
    "        \"top_pools_add\": f\"/onchain/networks/{network}/tokens/{token_address}/pools\"\n",
    "    }\n",
    "\n",
    "    return url_dict[url_type]\n",
    "\n",
    "def collect_response(list_response):    \n",
    "\n",
    "    response_all = []\n",
    "\n",
    "    for response in list_response[\"data\"]:\n",
    "        all_attributes = response[\"attributes\"]\n",
    "        daily_tx = all_attributes[\"transactions\"][\"h24\"]\n",
    "        rel = response[\"relationships\"]\n",
    "        \n",
    "        temp_dict = dict(\n",
    "            pair = all_attributes[\"name\"],\n",
    "            dex = rel[\"dex\"][\"data\"][\"id\"],\n",
    "            add = all_attributes[\"address\"],\n",
    "            fdv_usd = all_attributes[\"fdv_usd\"],\n",
    "            market_cap_usd = all_attributes[\"market_cap_usd\"],\n",
    "            daily_volume = all_attributes[\"volume_usd\"][\"h24\"],\n",
    "            daily_price_change = all_attributes[\"price_change_percentage\"][\"h24\"],\n",
    "            daily_buys = daily_tx[\"buys\"],\n",
    "            daily_sells = daily_tx[\"sells\"],\n",
    "            daily_buyers = daily_tx[\"buyers\"],\n",
    "            daily_sellers = daily_tx[\"sellers\"]\n",
    "        )\n",
    "        \n",
    "        response_all.append(temp_dict)\n",
    "\n",
    "    return response_all\n",
    "\n",
    "def get_top_pools_network(network, sort_by_col):\n",
    "\n",
    "    target_url = get_url(\"top_pools\", network)\n",
    "\n",
    "    toppool_list_response = get_response(target_url,\n",
    "                                         use_pro, \n",
    "                                         \"\",\n",
    "                                         PRO_URL)\n",
    "\n",
    "    toppool_all = collect_response(toppool_list_response)   \n",
    "\n",
    "    return pl.DataFrame(toppool_all).sort([f\"{sort_by_col}\"], descending = True)"
   ]
  },
  {
   "cell_type": "code",
   "execution_count": 32,
   "id": "41a33748-15ea-4c78-9d15-8c66d9d8b2cf",
   "metadata": {},
   "outputs": [
    {
     "data": {
      "text/html": [
       "<div><style>\n",
       ".dataframe > thead > tr,\n",
       ".dataframe > tbody > tr {\n",
       "  text-align: right;\n",
       "  white-space: pre-wrap;\n",
       "}\n",
       "</style>\n",
       "<small>shape: (5, 11)</small><table border=\"1\" class=\"dataframe\"><thead><tr><th>pair</th><th>dex</th><th>add</th><th>fdv_usd</th><th>market_cap_usd</th><th>daily_volume</th><th>daily_price_change</th><th>daily_buys</th><th>daily_sells</th><th>daily_buyers</th><th>daily_sellers</th></tr><tr><td>str</td><td>str</td><td>str</td><td>str</td><td>str</td><td>str</td><td>str</td><td>i64</td><td>i64</td><td>i64</td><td>i64</td></tr></thead><tbody><tr><td>&quot;EDOGE / WETH&quot;</td><td>&quot;uniswap_v2&quot;</td><td>&quot;0x693e6c4ac1ab7203111f78d3c53d4083a1e963ab&quot;</td><td>&quot;8032.9090123467&quot;</td><td>null</td><td>&quot;979647.988340449&quot;</td><td>&quot;102.35&quot;</td><td>1731</td><td>1535</td><td>886</td><td>561</td></tr><tr><td>&quot;HuaHua / WETH&quot;</td><td>&quot;uniswap_v2&quot;</td><td>&quot;0x216f74bf5ede14e271b659d9e6ba75ee594032d5&quot;</td><td>&quot;193895.147030122&quot;</td><td>null</td><td>&quot;902851.477555977&quot;</td><td>&quot;28.86&quot;</td><td>1210</td><td>1062</td><td>582</td><td>475</td></tr><tr><td>&quot;Rudi / WETH&quot;</td><td>&quot;uniswap_v2&quot;</td><td>&quot;0x70aae7f70b3f21df3aaccb4fabc669630d32f307&quot;</td><td>&quot;103308.501864737&quot;</td><td>null</td><td>&quot;874328.394646964&quot;</td><td>&quot;80.06&quot;</td><td>1352</td><td>984</td><td>662</td><td>496</td></tr><tr><td>&quot;MANYU / WETH&quot;</td><td>&quot;uniswap_v2&quot;</td><td>&quot;0xc4704f13d5e08b27b039d53873e813dd2fad99d9&quot;</td><td>&quot;25766724.1909438&quot;</td><td>&quot;26052624.2&quot;</td><td>&quot;7646208.93177283&quot;</td><td>&quot;-25.59&quot;</td><td>3258</td><td>1971</td><td>1845</td><td>1216</td></tr><tr><td>&quot;CHAD / WETH&quot;</td><td>&quot;uniswap_v2&quot;</td><td>&quot;0x2589d559baa45511195ed5c89c0447565d5532ed&quot;</td><td>&quot;197513.277760348&quot;</td><td>null</td><td>&quot;746693.321693132&quot;</td><td>&quot;-60.87&quot;</td><td>932</td><td>765</td><td>493</td><td>495</td></tr></tbody></table></div>"
      ],
      "text/plain": [
       "shape: (5, 11)\n",
       "┌───────────┬───────────┬───────────┬───────────┬───┬───────────┬───────────┬───────────┬──────────┐\n",
       "│ pair      ┆ dex       ┆ add       ┆ fdv_usd   ┆ … ┆ daily_buy ┆ daily_sel ┆ daily_buy ┆ daily_se │\n",
       "│ ---       ┆ ---       ┆ ---       ┆ ---       ┆   ┆ s         ┆ ls        ┆ ers       ┆ llers    │\n",
       "│ str       ┆ str       ┆ str       ┆ str       ┆   ┆ ---       ┆ ---       ┆ ---       ┆ ---      │\n",
       "│           ┆           ┆           ┆           ┆   ┆ i64       ┆ i64       ┆ i64       ┆ i64      │\n",
       "╞═══════════╪═══════════╪═══════════╪═══════════╪═══╪═══════════╪═══════════╪═══════════╪══════════╡\n",
       "│ EDOGE /   ┆ uniswap_v ┆ 0x693e6c4 ┆ 8032.9090 ┆ … ┆ 1731      ┆ 1535      ┆ 886       ┆ 561      │\n",
       "│ WETH      ┆ 2         ┆ ac1ab7203 ┆ 123467    ┆   ┆           ┆           ┆           ┆          │\n",
       "│           ┆           ┆ 111f78d3c ┆           ┆   ┆           ┆           ┆           ┆          │\n",
       "│           ┆           ┆ 53d4083a1 ┆           ┆   ┆           ┆           ┆           ┆          │\n",
       "│           ┆           ┆ e963ab    ┆           ┆   ┆           ┆           ┆           ┆          │\n",
       "│ HuaHua /  ┆ uniswap_v ┆ 0x216f74b ┆ 193895.14 ┆ … ┆ 1210      ┆ 1062      ┆ 582       ┆ 475      │\n",
       "│ WETH      ┆ 2         ┆ f5ede14e2 ┆ 7030122   ┆   ┆           ┆           ┆           ┆          │\n",
       "│           ┆           ┆ 71b659d9e ┆           ┆   ┆           ┆           ┆           ┆          │\n",
       "│           ┆           ┆ 6ba75ee59 ┆           ┆   ┆           ┆           ┆           ┆          │\n",
       "│           ┆           ┆ 4032d5    ┆           ┆   ┆           ┆           ┆           ┆          │\n",
       "│ Rudi /    ┆ uniswap_v ┆ 0x70aae7f ┆ 103308.50 ┆ … ┆ 1352      ┆ 984       ┆ 662       ┆ 496      │\n",
       "│ WETH      ┆ 2         ┆ 70b3f21df ┆ 1864737   ┆   ┆           ┆           ┆           ┆          │\n",
       "│           ┆           ┆ 3aaccb4fa ┆           ┆   ┆           ┆           ┆           ┆          │\n",
       "│           ┆           ┆ bc669630d ┆           ┆   ┆           ┆           ┆           ┆          │\n",
       "│           ┆           ┆ 32f307    ┆           ┆   ┆           ┆           ┆           ┆          │\n",
       "│ MANYU /   ┆ uniswap_v ┆ 0xc4704f1 ┆ 25766724. ┆ … ┆ 3258      ┆ 1971      ┆ 1845      ┆ 1216     │\n",
       "│ WETH      ┆ 2         ┆ 3d5e08b27 ┆ 1909438   ┆   ┆           ┆           ┆           ┆          │\n",
       "│           ┆           ┆ b039d5387 ┆           ┆   ┆           ┆           ┆           ┆          │\n",
       "│           ┆           ┆ 3e813dd2f ┆           ┆   ┆           ┆           ┆           ┆          │\n",
       "│           ┆           ┆ ad99d9    ┆           ┆   ┆           ┆           ┆           ┆          │\n",
       "│ CHAD /    ┆ uniswap_v ┆ 0x2589d55 ┆ 197513.27 ┆ … ┆ 932       ┆ 765       ┆ 493       ┆ 495      │\n",
       "│ WETH      ┆ 2         ┆ 9baa45511 ┆ 7760348   ┆   ┆           ┆           ┆           ┆          │\n",
       "│           ┆           ┆ 195ed5c89 ┆           ┆   ┆           ┆           ┆           ┆          │\n",
       "│           ┆           ┆ c0447565d ┆           ┆   ┆           ┆           ┆           ┆          │\n",
       "│           ┆           ┆ 5532ed    ┆           ┆   ┆           ┆           ┆           ┆          │\n",
       "└───────────┴───────────┴───────────┴───────────┴───┴───────────┴───────────┴───────────┴──────────┘"
      ]
     },
     "execution_count": 32,
     "metadata": {},
     "output_type": "execute_result"
    }
   ],
   "source": [
    "get_top_pools_network(\"eth\", \"daily_volume\").limit(5)"
   ]
  },
  {
   "cell_type": "markdown",
   "id": "9c4d5bf1-a6d1-427c-9816-8ae9d9153795",
   "metadata": {},
   "source": [
    "#### OHLCV for a specific pool"
   ]
  },
  {
   "cell_type": "code",
   "execution_count": 52,
   "id": "a087bca3-a13e-449a-9cea-17a274b153a9",
   "metadata": {},
   "outputs": [],
   "source": [
    "def get_ohlcv_data(network, pool_add, timeframe):\n",
    "\n",
    "    ohlcv_params = \"\"\n",
    "\n",
    "    ohlcv_list_response = get_response(f\"/onchain/networks/{network}/pools/{pool_address}/ohlcv/{timeframe}\",\n",
    "                                       use_pro,\n",
    "                                       ohlcv_params,\n",
    "                                       PRO_URL)\n",
    "\n",
    "    df_ohlcv = pl.DataFrame(ohlcv_list_response[\"data\"][\"attributes\"][\"ohlcv_list\"], \n",
    "                           schema = [\"timestamp\", \n",
    "                                     \"open\", \n",
    "                                     \"high\",\n",
    "                                     \"low\",\n",
    "                                     \"close\",\n",
    "                                     \"volume\"],\n",
    "                           orient = \"row\")\n",
    "\n",
    "    df_ohlcv = df_ohlcv.with_columns(\n",
    "                  pl.from_epoch(pl.col(\"timestamp\"),\n",
    "                                time_unit = \"s\").alias(\"timestamp\")\n",
    "         )\n",
    "\n",
    "    return df_ohlcv"
   ]
  },
  {
   "cell_type": "code",
   "execution_count": 57,
   "id": "091af7e1-9245-4b0c-995c-cdc95b01bdb1",
   "metadata": {},
   "outputs": [
    {
     "data": {
      "text/html": [
       "<div><style>\n",
       ".dataframe > thead > tr,\n",
       ".dataframe > tbody > tr {\n",
       "  text-align: right;\n",
       "  white-space: pre-wrap;\n",
       "}\n",
       "</style>\n",
       "<small>shape: (100, 6)</small><table border=\"1\" class=\"dataframe\"><thead><tr><th>timestamp</th><th>open</th><th>high</th><th>low</th><th>close</th><th>volume</th></tr><tr><td>datetime[μs]</td><td>f64</td><td>f64</td><td>f64</td><td>f64</td><td>f64</td></tr></thead><tbody><tr><td>2025-07-15 20:05:00</td><td>1.9114e-7</td><td>1.9721e-7</td><td>1.9114e-7</td><td>1.9721e-7</td><td>138.391189</td></tr><tr><td>2025-07-15 20:00:00</td><td>1.8965e-7</td><td>1.9114e-7</td><td>1.8965e-7</td><td>1.9114e-7</td><td>17.85991</td></tr><tr><td>2025-07-15 19:55:00</td><td>1.8932e-7</td><td>1.8965e-7</td><td>1.8932e-7</td><td>1.8965e-7</td><td>4.943187</td></tr><tr><td>2025-07-15 19:50:00</td><td>1.9270e-7</td><td>1.9270e-7</td><td>1.8811e-7</td><td>1.8932e-7</td><td>41.483494</td></tr><tr><td>2025-07-15 19:45:00</td><td>1.9915e-7</td><td>1.9915e-7</td><td>1.9270e-7</td><td>1.9270e-7</td><td>20.49023</td></tr><tr><td>&hellip;</td><td>&hellip;</td><td>&hellip;</td><td>&hellip;</td><td>&hellip;</td><td>&hellip;</td></tr><tr><td>2025-07-15 11:05:00</td><td>0.000002</td><td>0.000002</td><td>9.2882e-7</td><td>0.000001</td><td>9809.63409</td></tr><tr><td>2025-07-15 11:00:00</td><td>0.000004</td><td>0.000004</td><td>0.000002</td><td>0.000002</td><td>14151.078195</td></tr><tr><td>2025-07-15 10:55:00</td><td>0.000006</td><td>0.000007</td><td>0.000004</td><td>0.000004</td><td>14732.952273</td></tr><tr><td>2025-07-15 10:50:00</td><td>0.000009</td><td>0.000009</td><td>0.000006</td><td>0.000006</td><td>11879.627437</td></tr><tr><td>2025-07-15 10:45:00</td><td>0.000009</td><td>0.000009</td><td>0.000009</td><td>0.000009</td><td>3448.222601</td></tr></tbody></table></div>"
      ],
      "text/plain": [
       "shape: (100, 6)\n",
       "┌─────────────────────┬───────────┬───────────┬───────────┬───────────┬──────────────┐\n",
       "│ timestamp           ┆ open      ┆ high      ┆ low       ┆ close     ┆ volume       │\n",
       "│ ---                 ┆ ---       ┆ ---       ┆ ---       ┆ ---       ┆ ---          │\n",
       "│ datetime[μs]        ┆ f64       ┆ f64       ┆ f64       ┆ f64       ┆ f64          │\n",
       "╞═════════════════════╪═══════════╪═══════════╪═══════════╪═══════════╪══════════════╡\n",
       "│ 2025-07-15 20:05:00 ┆ 1.9114e-7 ┆ 1.9721e-7 ┆ 1.9114e-7 ┆ 1.9721e-7 ┆ 138.391189   │\n",
       "│ 2025-07-15 20:00:00 ┆ 1.8965e-7 ┆ 1.9114e-7 ┆ 1.8965e-7 ┆ 1.9114e-7 ┆ 17.85991     │\n",
       "│ 2025-07-15 19:55:00 ┆ 1.8932e-7 ┆ 1.8965e-7 ┆ 1.8932e-7 ┆ 1.8965e-7 ┆ 4.943187     │\n",
       "│ 2025-07-15 19:50:00 ┆ 1.9270e-7 ┆ 1.9270e-7 ┆ 1.8811e-7 ┆ 1.8932e-7 ┆ 41.483494    │\n",
       "│ 2025-07-15 19:45:00 ┆ 1.9915e-7 ┆ 1.9915e-7 ┆ 1.9270e-7 ┆ 1.9270e-7 ┆ 20.49023     │\n",
       "│ …                   ┆ …         ┆ …         ┆ …         ┆ …         ┆ …            │\n",
       "│ 2025-07-15 11:05:00 ┆ 0.000002  ┆ 0.000002  ┆ 9.2882e-7 ┆ 0.000001  ┆ 9809.63409   │\n",
       "│ 2025-07-15 11:00:00 ┆ 0.000004  ┆ 0.000004  ┆ 0.000002  ┆ 0.000002  ┆ 14151.078195 │\n",
       "│ 2025-07-15 10:55:00 ┆ 0.000006  ┆ 0.000007  ┆ 0.000004  ┆ 0.000004  ┆ 14732.952273 │\n",
       "│ 2025-07-15 10:50:00 ┆ 0.000009  ┆ 0.000009  ┆ 0.000006  ┆ 0.000006  ┆ 11879.627437 │\n",
       "│ 2025-07-15 10:45:00 ┆ 0.000009  ┆ 0.000009  ┆ 0.000009  ┆ 0.000009  ┆ 3448.222601  │\n",
       "└─────────────────────┴───────────┴───────────┴───────────┴───────────┴──────────────┘"
      ]
     },
     "execution_count": 57,
     "metadata": {},
     "output_type": "execute_result"
    }
   ],
   "source": [
    "network = \"eth\"\n",
    "pool_address = \"0x693e6c4ac1ab7203111f78d3c53d4083a1e963ab\"\n",
    "timeframe = \"minute?aggregate=5\"\n",
    "\n",
    "df_ohlcv = get_ohlcv_data(network, pool_address, timeframe)\n",
    "\n",
    "df_ohlcv"
   ]
  },
  {
   "cell_type": "markdown",
   "id": "320b8bba-0eba-4228-8104-5f1beda947bc",
   "metadata": {},
   "source": [
    "#### Export to CSV / XLSX"
   ]
  },
  {
   "cell_type": "code",
   "execution_count": 58,
   "id": "aed7e976-1277-4c2c-9b25-bfb0214b4c5b",
   "metadata": {},
   "outputs": [
    {
     "data": {
      "text/plain": [
       "<xlsxwriter.workbook.Workbook at 0x7f42689d9930>"
      ]
     },
     "execution_count": 58,
     "metadata": {},
     "output_type": "execute_result"
    }
   ],
   "source": [
    "df_ohlcv.write_csv(\"/home/vikas/Desktop/GitHub/CoinGecko_export_data/OHLCV_export.csv\")\n",
    "df_ohlcv.write_excel(\"/home/vikas/Desktop/GitHub/CoinGecko_export_data/OHLCV_export.xlsx\",\n",
    "                      autofit = True)"
   ]
  },
  {
   "cell_type": "code",
   "execution_count": null,
   "id": "a230fb02-dd74-4d60-a401-bdbe2e08794b",
   "metadata": {},
   "outputs": [],
   "source": []
  }
 ],
 "metadata": {
  "kernelspec": {
   "display_name": "Python 3 (ipykernel)",
   "language": "python",
   "name": "python3"
  },
  "language_info": {
   "codemirror_mode": {
    "name": "ipython",
    "version": 3
   },
   "file_extension": ".py",
   "mimetype": "text/x-python",
   "name": "python",
   "nbconvert_exporter": "python",
   "pygments_lexer": "ipython3",
   "version": "3.10.12"
  }
 },
 "nbformat": 4,
 "nbformat_minor": 5
}
