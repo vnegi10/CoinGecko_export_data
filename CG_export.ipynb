{
 "cells": [
  {
   "cell_type": "code",
   "execution_count": 51,
   "id": "1f3fa76c-c1c1-4668-88dc-3f0598d72765",
   "metadata": {},
   "outputs": [],
   "source": [
    "import polars as pl\n",
    "import requests as rq\n",
    "import json"
   ]
  },
  {
   "cell_type": "code",
   "execution_count": 3,
   "id": "ee6a9411-f056-47ad-b7b9-f92c8c8d5344",
   "metadata": {},
   "outputs": [],
   "source": [
    "# Get demo API key\n",
    "def get_demo_key():\n",
    "    f = open(\"/home/vikas/Documents/CG_demo_key.json\")\n",
    "    key_dict = json.load(f)\n",
    "    return key_dict[\"key\"]"
   ]
  },
  {
   "cell_type": "markdown",
   "id": "36330ac5-586a-407f-bbb6-83c03adf01b8",
   "metadata": {},
   "source": [
    "### API status"
   ]
  },
  {
   "cell_type": "code",
   "execution_count": 4,
   "id": "5be13b54-cd1c-4a93-9a04-a1c1af51731d",
   "metadata": {},
   "outputs": [],
   "source": [
    "PUB_URL = \"https://api.coingecko.com/api/v3\"\n",
    "PRO_URL = \"https://pro-api.coingecko.com/api/v3\""
   ]
  },
  {
   "cell_type": "code",
   "execution_count": 52,
   "id": "3c9faee8-dc5b-4036-b4af-52932a17270d",
   "metadata": {},
   "outputs": [],
   "source": [
    "def get_response(endpoint, headers, params, URL):\n",
    "    url = \"\".join((URL, endpoint))\n",
    "    response = rq.get(url, headers = headers, params = params)\n",
    "    if response.status_code == 200:\n",
    "        data = response.json()\n",
    "        return data\n",
    "    else:\n",
    "        print(f\"Failed to fetch data, check status code {response.status_code}\")"
   ]
  },
  {
   "cell_type": "code",
   "execution_count": 53,
   "id": "33c86e2f-6a6e-4522-9227-69352ca511d9",
   "metadata": {},
   "outputs": [],
   "source": [
    "use_demo = {\n",
    "           \"accept\": \"application/json\",\n",
    "           \"x-cg-demo-api-key\" : get_demo_key() \n",
    "}"
   ]
  },
  {
   "cell_type": "code",
   "execution_count": 54,
   "id": "5c55ee95-b719-44b8-b0e3-e4f88449b64a",
   "metadata": {},
   "outputs": [
    {
     "data": {
      "text/plain": [
       "{'gecko_says': '(V3) To the Moon!'}"
      ]
     },
     "execution_count": 54,
     "metadata": {},
     "output_type": "execute_result"
    }
   ],
   "source": [
    "get_response(\"/ping\", use_demo, \"\", PUB_URL)"
   ]
  },
  {
   "cell_type": "markdown",
   "id": "b5c930f7-1875-40d3-9831-5d16a764ca47",
   "metadata": {},
   "source": [
    "#### List of coins"
   ]
  },
  {
   "cell_type": "code",
   "execution_count": 55,
   "id": "486df9f3-ddba-49ed-84f1-9cacdcf4f7d9",
   "metadata": {},
   "outputs": [],
   "source": [
    "def get_list_of_coins():\n",
    "\n",
    "    response = get_response(\"/coins/list\", use_demo, \"\", PUB_URL)\n",
    "\n",
    "    return pl.DataFrame(response) "
   ]
  },
  {
   "cell_type": "code",
   "execution_count": 56,
   "id": "bc4826d7-4d83-4f62-a460-a384b2437f53",
   "metadata": {},
   "outputs": [],
   "source": [
    "df_coins = get_list_of_coins()"
   ]
  },
  {
   "cell_type": "code",
   "execution_count": 57,
   "id": "a24d9812-8879-40ff-89cc-0b3978656ec4",
   "metadata": {},
   "outputs": [
    {
     "data": {
      "text/html": [
       "<div><style>\n",
       ".dataframe > thead > tr,\n",
       ".dataframe > tbody > tr {\n",
       "  text-align: right;\n",
       "  white-space: pre-wrap;\n",
       "}\n",
       "</style>\n",
       "<small>shape: (4, 3)</small><table border=\"1\" class=\"dataframe\"><thead><tr><th>id</th><th>symbol</th><th>name</th></tr><tr><td>str</td><td>str</td><td>str</td></tr></thead><tbody><tr><td>&quot;batcat&quot;</td><td>&quot;btc&quot;</td><td>&quot;batcat&quot;</td></tr><tr><td>&quot;bitcoin&quot;</td><td>&quot;btc&quot;</td><td>&quot;Bitcoin&quot;</td></tr><tr><td>&quot;blackrocktradingcurrency&quot;</td><td>&quot;btc&quot;</td><td>&quot;BlackrockTradingCurrency&quot;</td></tr><tr><td>&quot;osmosis-allbtc&quot;</td><td>&quot;btc&quot;</td><td>&quot;Osmosis allBTC&quot;</td></tr></tbody></table></div>"
      ],
      "text/plain": [
       "shape: (4, 3)\n",
       "┌──────────────────────────┬────────┬──────────────────────────┐\n",
       "│ id                       ┆ symbol ┆ name                     │\n",
       "│ ---                      ┆ ---    ┆ ---                      │\n",
       "│ str                      ┆ str    ┆ str                      │\n",
       "╞══════════════════════════╪════════╪══════════════════════════╡\n",
       "│ batcat                   ┆ btc    ┆ batcat                   │\n",
       "│ bitcoin                  ┆ btc    ┆ Bitcoin                  │\n",
       "│ blackrocktradingcurrency ┆ btc    ┆ BlackrockTradingCurrency │\n",
       "│ osmosis-allbtc           ┆ btc    ┆ Osmosis allBTC           │\n",
       "└──────────────────────────┴────────┴──────────────────────────┘"
      ]
     },
     "execution_count": 57,
     "metadata": {},
     "output_type": "execute_result"
    }
   ],
   "source": [
    "df_coins.filter(pl.col(\"symbol\") == \"btc\")"
   ]
  },
  {
   "cell_type": "markdown",
   "id": "530ae8af-ae3d-481d-830f-8502bfa560ed",
   "metadata": {},
   "source": [
    "### OHLC data"
   ]
  },
  {
   "cell_type": "code",
   "execution_count": 58,
   "id": "63d70752-1bec-429b-816f-37f6e460f669",
   "metadata": {},
   "outputs": [],
   "source": [
    "def get_ohlc_data(coin_id, target_curr, days, precision):\n",
    "\n",
    "    ohlc_params = {\n",
    "            \"vs_currency\": target_curr,\n",
    "            \"days\": days,\n",
    "            \"precision\": precision\n",
    "    }\n",
    "\n",
    "    ohlc_list_response = get_response(f\"/coins/{coin_id}/ohlc\",\n",
    "                                      use_demo,\n",
    "                                      ohlc_params,\n",
    "                                      PUB_URL)\n",
    "\n",
    "    df_ohlc = pl.DataFrame(ohlc_list_response, \n",
    "                           schema = [\"timestamp\", \"open\", \"high\", \"low\", \"close\"],\n",
    "                           orient = \"row\")\n",
    "\n",
    "    df_ohlc = df_ohlc.with_columns(\n",
    "                  pl.from_epoch(pl.col(\"timestamp\"),\n",
    "                                time_unit = \"ms\").alias(\"timestamp\")\n",
    "         )\n",
    "\n",
    "    return df_ohlc"
   ]
  },
  {
   "cell_type": "code",
   "execution_count": 59,
   "id": "52a66d6e-94d1-4e8a-b0ad-8711904e11e9",
   "metadata": {},
   "outputs": [],
   "source": [
    "df_ohlc = get_ohlc_data(\"bitcoin\", \"usd\", \"14\", \"2\")"
   ]
  },
  {
   "cell_type": "code",
   "execution_count": 60,
   "id": "9ad7e73b-5617-4a47-a588-371f13653734",
   "metadata": {},
   "outputs": [
    {
     "data": {
      "text/html": [
       "<div><style>\n",
       ".dataframe > thead > tr,\n",
       ".dataframe > tbody > tr {\n",
       "  text-align: right;\n",
       "  white-space: pre-wrap;\n",
       "}\n",
       "</style>\n",
       "<small>shape: (84, 5)</small><table border=\"1\" class=\"dataframe\"><thead><tr><th>timestamp</th><th>open</th><th>high</th><th>low</th><th>close</th></tr><tr><td>datetime[ms]</td><td>f64</td><td>f64</td><td>f64</td><td>f64</td></tr></thead><tbody><tr><td>2025-05-22 08:00:00</td><td>111456.2</td><td>111544.46</td><td>110664.19</td><td>110931.8</td></tr><tr><td>2025-05-22 12:00:00</td><td>110993.06</td><td>111074.77</td><td>110418.95</td><td>110838.77</td></tr><tr><td>2025-05-22 16:00:00</td><td>110896.85</td><td>111451.29</td><td>110835.13</td><td>111335.63</td></tr><tr><td>2025-05-22 20:00:00</td><td>111309.93</td><td>111814.16</td><td>111286.85</td><td>111350.89</td></tr><tr><td>2025-05-23 00:00:00</td><td>111245.07</td><td>111560.36</td><td>110878.32</td><td>111560.36</td></tr><tr><td>&hellip;</td><td>&hellip;</td><td>&hellip;</td><td>&hellip;</td><td>&hellip;</td></tr><tr><td>2025-06-04 12:00:00</td><td>105407.11</td><td>105910.49</td><td>105292.85</td><td>105294.57</td></tr><tr><td>2025-06-04 16:00:00</td><td>105281.39</td><td>105483.88</td><td>104648.35</td><td>105483.88</td></tr><tr><td>2025-06-04 20:00:00</td><td>105446.23</td><td>105465.2</td><td>104968.63</td><td>105059.01</td></tr><tr><td>2025-06-05 00:00:00</td><td>105046.66</td><td>105046.66</td><td>104690.87</td><td>104812.92</td></tr><tr><td>2025-06-05 04:00:00</td><td>104803.01</td><td>105200.43</td><td>104803.01</td><td>105000.45</td></tr></tbody></table></div>"
      ],
      "text/plain": [
       "shape: (84, 5)\n",
       "┌─────────────────────┬───────────┬───────────┬───────────┬───────────┐\n",
       "│ timestamp           ┆ open      ┆ high      ┆ low       ┆ close     │\n",
       "│ ---                 ┆ ---       ┆ ---       ┆ ---       ┆ ---       │\n",
       "│ datetime[ms]        ┆ f64       ┆ f64       ┆ f64       ┆ f64       │\n",
       "╞═════════════════════╪═══════════╪═══════════╪═══════════╪═══════════╡\n",
       "│ 2025-05-22 08:00:00 ┆ 111456.2  ┆ 111544.46 ┆ 110664.19 ┆ 110931.8  │\n",
       "│ 2025-05-22 12:00:00 ┆ 110993.06 ┆ 111074.77 ┆ 110418.95 ┆ 110838.77 │\n",
       "│ 2025-05-22 16:00:00 ┆ 110896.85 ┆ 111451.29 ┆ 110835.13 ┆ 111335.63 │\n",
       "│ 2025-05-22 20:00:00 ┆ 111309.93 ┆ 111814.16 ┆ 111286.85 ┆ 111350.89 │\n",
       "│ 2025-05-23 00:00:00 ┆ 111245.07 ┆ 111560.36 ┆ 110878.32 ┆ 111560.36 │\n",
       "│ …                   ┆ …         ┆ …         ┆ …         ┆ …         │\n",
       "│ 2025-06-04 12:00:00 ┆ 105407.11 ┆ 105910.49 ┆ 105292.85 ┆ 105294.57 │\n",
       "│ 2025-06-04 16:00:00 ┆ 105281.39 ┆ 105483.88 ┆ 104648.35 ┆ 105483.88 │\n",
       "│ 2025-06-04 20:00:00 ┆ 105446.23 ┆ 105465.2  ┆ 104968.63 ┆ 105059.01 │\n",
       "│ 2025-06-05 00:00:00 ┆ 105046.66 ┆ 105046.66 ┆ 104690.87 ┆ 104812.92 │\n",
       "│ 2025-06-05 04:00:00 ┆ 104803.01 ┆ 105200.43 ┆ 104803.01 ┆ 105000.45 │\n",
       "└─────────────────────┴───────────┴───────────┴───────────┴───────────┘"
      ]
     },
     "execution_count": 60,
     "metadata": {},
     "output_type": "execute_result"
    }
   ],
   "source": [
    "df_ohlc"
   ]
  },
  {
   "cell_type": "markdown",
   "id": "b4ff3202-7619-4075-a20b-34f5124a954f",
   "metadata": {},
   "source": [
    "### TODO \n",
    "- Verify that high and low columns have been assigned correctly\n",
    "- Try other target currencies\n",
    "- Export to CSV, XLSX"
   ]
  },
  {
   "cell_type": "code",
   "execution_count": null,
   "id": "3f3877a5-73b9-4dd5-b0bb-69f5ca418de3",
   "metadata": {},
   "outputs": [],
   "source": []
  }
 ],
 "metadata": {
  "kernelspec": {
   "display_name": "Python 3 (ipykernel)",
   "language": "python",
   "name": "python3"
  },
  "language_info": {
   "codemirror_mode": {
    "name": "ipython",
    "version": 3
   },
   "file_extension": ".py",
   "mimetype": "text/x-python",
   "name": "python",
   "nbconvert_exporter": "python",
   "pygments_lexer": "ipython3",
   "version": "3.10.12"
  }
 },
 "nbformat": 4,
 "nbformat_minor": 5
}
